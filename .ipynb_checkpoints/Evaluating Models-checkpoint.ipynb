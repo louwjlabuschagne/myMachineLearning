{
 "cells": [
  {
   "cell_type": "markdown",
   "metadata": {},
   "source": [
    "# Under fitting, \n",
    "also known as bias, is a scenario when the model doesn't even perform well on training data. This means that we fit a less robust model to the data. For example, say the data is distributed non-linearly and we are fitting the data with a linear model. From the following image, we see that data is non-linearly distributed. Assume that we have fitted a linear model (orange line). In this case, during the model building stage itself, the predictive power will be low.\n",
    "\n",
    "# Over fitting \n",
    "is a scenario when the model performs well on training data, but does really bad on test data. This scenario arises when the model memorizes the data pattern rather than learning from data. For example, say the data is distributed in a non-linear pattern, and we have fitted a complex model, shown using the green line. In this case, we observe that the model is fitted very close to the data distribution, taking care of all the ups and downs. In this case, the model is most likely to fail on previously unseen data."
   ]
  },
  {
   "cell_type": "markdown",
   "metadata": {},
   "source": [
    "![](overfitting_underfitting.jpg)"
   ]
  },
  {
   "cell_type": "markdown",
   "metadata": {},
   "source": [
    "The preceding image shows simple, complex, and appropriate fitted models' training data. The green fit represents overfitting, the orange line represents underfitting, the black and blue lines represent the appropriate model, which is a trade-off between underfit and overfit.\n",
    "\n",
    "Any fitted model is evaluated to avoid previously mentioned scenarios using cross validation, regularization, pruning, model comparisons, ROC curves, confusion matrices, and so on .\n",
    "\n",
    "**Cross validation**: This is a very popular technique for model evaluation for almost all models. In this technique, we divide the data into two datasets: a training dataset and a test dataset. The model is built using the training dataset and evaluated using the test dataset. This process is repeated many times. The test errors are calculated for every iteration. The averaged test error is calculated to generalize the model accuracy at the end of all the iterations.\n",
    "\n",
    "**Regularization**: In this technique, the data variables are penalized to reduce the complexity of the model with the objective to minimize the cost function. There are two most popular regularization techniques: ridge regression and lasso regression. In both techniques, we try to reduce the variable co-efficient to zero. Thus, a smaller number of variables will fit the data optimally.\n",
    "\n",
    "**Confusion matrix**: This technique is popularly used in evaluating a classification model. We build a confusion matrix using the results of the model. We calculate precision and recall/sensitivity/specificity to evaluate the model.\n",
    "\n",
    "+ **Precision**: This is the probability whether the truly classified records are relevant.\n",
    "+ **Recall/Sensitivity**: This is the probability whether the relevant records are truly classified.\n",
    "+ **Specificity**: Also known as true negative rate, this is the proportion of truly classified wrong records."
   ]
  },
  {
   "cell_type": "markdown",
   "metadata": {},
   "source": [
    "# Model Comparison\n",
    "How do you choose which model fits the data well? A number of approaches are available for a suitable model selection, such as\n",
    "+ Akaike information criteria (AIC), \n",
    "+ Bayesian information criteria (BIC), \n",
    "+ and Adjusted $R^2$."
   ]
  },
  {
   "cell_type": "markdown",
   "metadata": {
    "collapsed": true
   },
   "source": [
    "# 7 Steps of machine learning\n",
    "1. Gather Data\n",
    "2. Data Preparation\n",
    "    + Graph to see relationships, and if training set is evenenly distributed\n",
    "    + Normalization, Deduplication, Error Correction\n",
    "    + Split training, testing and eval set\n",
    "3. Choose Model\n",
    "4. Training\n",
    "    + Here we adjust the weights, $w = weights = \\left[ {\\begin{array}{*{20}{c}}\n",
    "{{m_{1,1}}}&{{m_{1,2}}}\\\\\n",
    "{{m_{2,1}}}&{{m_{2,2}}}\\\\\n",
    "{{m_{3,1}}}&{{m_{3,2}}}\n",
    "\\end{array}} \\right]$,  and bias, $b = biases = \\left[ {\\begin{array}{*{20}{c}}\n",
    "{{b_{1,1}}}&{{b_{1,2}}}\\\\\n",
    "{{b_{2,1}}}&{{b_{2,2}}}\\\\\n",
    "{{b_{3,1}}}&{{b_{3,2}}}\n",
    "\\end{array}} \\right]$ matrices to improve our model\n",
    "5. Evalutation, 80/20, 70/30\n",
    "6. Hyper Parameter Tuning\n",
    "    + Starting point\n",
    "7. Inference\n",
    "\n",
    "Check out http://playground.tensorflow.org/"
   ]
  },
  {
   "cell_type": "code",
   "execution_count": null,
   "metadata": {
    "collapsed": true
   },
   "outputs": [],
   "source": []
  }
 ],
 "metadata": {
  "kernelspec": {
   "display_name": "Python 3",
   "language": "python",
   "name": "python3"
  },
  "language_info": {
   "codemirror_mode": {
    "name": "ipython",
    "version": 3
   },
   "file_extension": ".py",
   "mimetype": "text/x-python",
   "name": "python",
   "nbconvert_exporter": "python",
   "pygments_lexer": "ipython3",
   "version": "3.6.1"
  }
 },
 "nbformat": 4,
 "nbformat_minor": 2
}
